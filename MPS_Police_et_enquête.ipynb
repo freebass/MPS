{
 "cells": [
  {
   "cell_type": "markdown",
   "metadata": {},
   "source": [
    "# Séance 1\n",
    "## Le code de César\n",
    "Nous sommes en 46 av JC. Vous venez de capturer un esclave Romain appartenant à l'armée de César. Sous ses cheveux, est inscrit sur son crâne un message qui semble être crypté. Après une torture en règle l'esclave avoue que ce message était destiné à Cléopâtre, reine d'Egypte et amour de César. Malheureusement aucune torture ne délia la langue du prisonnier concernant la façon de déchiffrer le message.\n",
    "\n",
    "Voici ce qui est écrit :\n",
    "\n",
    "ZU CU IKYI CYI Q DK\n",
    "QK REHT TU BQ WHQDTU RBUKU\n",
    "Z'QY CYI CED SEUKH Q DK\n",
    "UJ YB QLQYJ TUI RBUKI\n",
    "\n",
    "Sauriez-vous le décrypter ?\n"
   ]
  },
  {
   "cell_type": "markdown",
   "metadata": {},
   "source": [
    "### Exercice 1\n",
    "Décrypter le texte suivant sachant que la clé est 10 : ebqoxd ovswsxob vk mslvo."
   ]
  },
  {
   "cell_type": "markdown",
   "metadata": {},
   "source": [
    "### Exercice 2\n",
    "Sachant que le texte en clair suivant ¨rendez vous rue de la paix¨ donne : mziyzu qjpn mpz yz gv kvds.\n",
    "\n",
    "Déterminer la clé de cryptage."
   ]
  },
  {
   "cell_type": "markdown",
   "metadata": {},
   "source": [
    "### Exercice 3\n",
    "Décrypter le texte suivant en supposant que le mot \"ennemi\" y figure : stywj jssjrn ij ytzotzwx jxy ij wjytzw"
   ]
  },
  {
   "cell_type": "markdown",
   "metadata": {},
   "source": [
    "### Exercice 4\n",
    "Décrypter le texte suivant : tw j l fyp elfap olyd yzecp dpcgtnp tw qlfe wl opxldbfpc"
   ]
  },
  {
   "cell_type": "markdown",
   "metadata": {},
   "source": [
    "### Exercice 5\n",
    "Décrypter le texte suivant dans lequel les espaces entre les mots ont été supprimés :\n",
    "rggfikvqcrwfidlcvjvtivkvtfddvgivmlvkevgivmvevqgrjcrgfcztv"
   ]
  },
  {
   "cell_type": "markdown",
   "metadata": {},
   "source": [
    "## Analyse fréquentielle"
   ]
  },
  {
   "cell_type": "markdown",
   "metadata": {},
   "source": [
    "### Exercice 1\n",
    "Choisir 5 lignes de texte dans votre livre de Français et en comptant le nombre d'occurrences de chacune des lettres, remplir le tableau suivant :\n",
    "\n",
    "|A|B|C|D|E|F|G|H|I|J|K|L|M|N|O|P|Q|R|S|T|U|V|W|X|Y|Z|\n",
    "|:---:|:---:|:---:|:---:|:---:|:---:|:---:|:---:|:---:|:---:|:---:|:---:|:---:|:---:|:---:|:---:|:---:|:---:|:---:|:---:|:---:|:---:|:---:|:---:|:---:|:---:|\n",
    "| | | | | | | | | | | | | | | | | | | | | | | | | | |\n",
    "\n",
    "Cette répartition des fréquences des lettres n'est qu'approximative, cela dépend de nombreux paramètres tels que le niveau de langue du texte, ainsi que du style d'écriture (Par exemple un message militaire utilisera souvent de nombreuses abréviations).\n"
   ]
  },
  {
   "cell_type": "markdown",
   "metadata": {},
   "source": [
    "### Exercice 2\n",
    "Utilisez l'analyse fréquentielle pour décoder le message de César."
   ]
  },
  {
   "cell_type": "markdown",
   "metadata": {},
   "source": [
    "### Exercice 3\n",
    "Un poème à décoder grâce à l'analyse fréquentielle :\n",
    "JUAR LSMX J'MWU EUMKSSU XUTVU\n",
    "LRHXUDU SUX PRQYWX ARMWKX\n",
    "XYKH UZ DRZKW, SR IHKXU UXZ EHRKTVU, VUSRX!\n",
    "SUX IURMN AYMHX XYWZ EKWKX!\n",
    "ZVUYLVKSU PRMZKUH"
   ]
  },
  {
   "cell_type": "markdown",
   "metadata": {},
   "source": [
    "# Séance 2"
   ]
  },
  {
   "cell_type": "markdown",
   "metadata": {},
   "source": [
    "On commence une initiation à Python que l'on prolonge par l'écriture d'un algorithme connu de tous, la saisie d'un code pin à l'ouverture d'un téléphone portable"
   ]
  },
  {
   "cell_type": "markdown",
   "metadata": {},
   "source": [
    "## Initiation à Python"
   ]
  },
  {
   "cell_type": "markdown",
   "metadata": {},
   "source": [
    "### Typage : des nombres et des chaînes"
   ]
  },
  {
   "cell_type": "markdown",
   "metadata": {},
   "source": [
    "#### Des chaîne de caractères"
   ]
  },
  {
   "cell_type": "markdown",
   "metadata": {},
   "source": [
    "Lancer le programme ci-dessous et le tester en saisissant ''bonjour'' pour la première chaîne de caractères et ''world'' pour la seconde."
   ]
  },
  {
   "cell_type": "code",
   "execution_count": null,
   "metadata": {},
   "outputs": [],
   "source": [
    "#saisie de 2 textes\n",
    "c=input('entre le premier texte ')\n",
    "d=input('entre le premier texte ')\n",
    "#affiche la somme\n",
    "print(c+d)"
   ]
  },
  {
   "cell_type": "markdown",
   "metadata": {},
   "source": [
    "#### Des nombres entiers"
   ]
  },
  {
   "cell_type": "markdown",
   "metadata": {},
   "source": [
    "Tester le code suivant :\n",
    "```python\n",
    "#initialisation\n",
    "a=0\n",
    "b=0\n",
    "#saisie de deux nombres\n",
    "a=input('entre le premier nombre')\n",
    "b=input('entre le premier nombre')\n",
    "#affiche la somme\n",
    "print(a+b)\n",
    "```\n"
   ]
  },
  {
   "cell_type": "code",
   "execution_count": null,
   "metadata": {
    "scrolled": true
   },
   "outputs": [],
   "source": [
    "#initialisation\n",
    "a=0\n",
    "b=0\n",
    "#saisie de deux nombres\n",
    "a=input('entre le premier nombre')\n",
    "b=input('entre le premier nombre')\n",
    "#affiche la somme\n",
    "print(a+b)"
   ]
  },
  {
   "cell_type": "markdown",
   "metadata": {},
   "source": [
    "Que se passe-t-il ?\n",
    "\n",
    "La fonction **input()** renvoie toujours une chaîne de caractères. Si vous souhaitez travailler avec des entiers, vous devez convertir la valeur entrée à l'aide de la fonction **int()**.\n",
    "\n",
    "Rajouter, dans le programme ci-dessous, les instructions suivantes après la ligne 6 :\n",
    "```python\n",
    "a=int(a)\n",
    "b=int(b)\n",
    "```\n",
    "Lancer le programme. Obtenez-vous l'affichage souhaité ?"
   ]
  },
  {
   "cell_type": "code",
   "execution_count": null,
   "metadata": {},
   "outputs": [],
   "source": [
    "#initialisation\n",
    "a=0\n",
    "b=0\n",
    "#saisie de deux nombres\n",
    "a=input('entre le premier nombre')\n",
    "b=input('entre le premier nombre')\n",
    "#affiche la somme\n",
    "print(a+b)"
   ]
  },
  {
   "cell_type": "markdown",
   "metadata": {},
   "source": [
    "**Prolongement** : Améliorer l'affichage afin d'afficher le résultat sous la forme 3+5=8\n",
    "\n",
    "Reprenez le code précédent (le copier/coller dans la cellule ci-dessous) et remplacer la dernière ligne par :\n",
    "```python\n",
    "print(a,'+',b,'=',a+b)\n",
    "```"
   ]
  },
  {
   "cell_type": "code",
   "execution_count": null,
   "metadata": {},
   "outputs": [],
   "source": []
  },
  {
   "cell_type": "markdown",
   "metadata": {},
   "source": [
    "### La boucle Pour"
   ]
  },
  {
   "cell_type": "markdown",
   "metadata": {},
   "source": [
    "Lancer les deux programmes ci-dessus :"
   ]
  },
  {
   "cell_type": "code",
   "execution_count": null,
   "metadata": {},
   "outputs": [],
   "source": [
    "#affiche les nombres de 0 à 19\n",
    "for i in range(20):\n",
    "    print(i) \n"
   ]
  },
  {
   "cell_type": "code",
   "execution_count": null,
   "metadata": {},
   "outputs": [],
   "source": [
    "#affiche les nombres à partir de 5 et inférieur à 20, de 3 en 3\n",
    "for i in range(5,20,3):\n",
    "    print(i) \n"
   ]
  },
  {
   "cell_type": "markdown",
   "metadata": {},
   "source": [
    "Si on modifie le programme précédent en remplaçant `range(5,20,3)` par `range(10,100,2)`, quels seront le premier et dernier nombre affichés ? Vérifier."
   ]
  },
  {
   "cell_type": "code",
   "execution_count": null,
   "metadata": {},
   "outputs": [],
   "source": []
  },
  {
   "cell_type": "markdown",
   "metadata": {},
   "source": [
    "## Le code pin"
   ]
  },
  {
   "cell_type": "markdown",
   "metadata": {},
   "source": [
    "### L'instruction conditionnelle Si Alors Sinon"
   ]
  },
  {
   "cell_type": "markdown",
   "metadata": {},
   "source": [
    "Exécuter le programme suivant :"
   ]
  },
  {
   "cell_type": "code",
   "execution_count": null,
   "metadata": {},
   "outputs": [],
   "source": [
    "code=input('entrer votre code?')\n",
    "if code=='1234':\n",
    "    print('code bon')\n",
    "else:\n",
    "    print('code mauvais')"
   ]
  },
  {
   "cell_type": "markdown",
   "metadata": {},
   "source": [
    "Pourquoi est-il écrit `'1234'`et non pas `1234` ?"
   ]
  },
  {
   "cell_type": "markdown",
   "metadata": {},
   "source": [
    "### La boucle Tant Que"
   ]
  },
  {
   "cell_type": "markdown",
   "metadata": {},
   "source": [
    "Exécuter le programme suivant :"
   ]
  },
  {
   "cell_type": "code",
   "execution_count": null,
   "metadata": {},
   "outputs": [],
   "source": [
    "#On demande le code\n",
    "code=input('entrer votre code?')\n",
    "#tant que le code n'est pas valable, on affiche code mauvais et on redemande un code\n",
    "while code!=1234:\n",
    "    print('code mauvais')\n",
    "    code=input('entrer votre code?')\n",
    "#on affiche le code est bon\n",
    "print('code bon') \n"
   ]
  },
  {
   "cell_type": "markdown",
   "metadata": {},
   "source": [
    "### Différents algorithmes"
   ]
  },
  {
   "cell_type": "markdown",
   "metadata": {},
   "source": [
    "Les programmes précédents sont incomplets, car le smartphone n'autorise que 3 essais. Des élèves de la seconde 10 ont proposé les algorithmes ci-dessous. Programmer chacun d'eux dans la ligne de commande située en-dessous de chacun d'eux."
   ]
  },
  {
   "cell_type": "markdown",
   "metadata": {},
   "source": [
    "`demande du code\n",
    "si le code est mauvais\n",
    "alors on redemande le code\n",
    "sinon on affiche bienvenue`"
   ]
  },
  {
   "cell_type": "code",
   "execution_count": null,
   "metadata": {},
   "outputs": [],
   "source": []
  },
  {
   "cell_type": "markdown",
   "metadata": {},
   "source": [
    "`demande du code\n",
    "on initialise le nombre d'essais à 1`\n",
    "\n",
    "``Tant que le code n'est pas bon\n",
    "    On affiche code mauvais\n",
    "    On affiche le nombre d'essais restant\n",
    "    On demande un autre code``\n",
    "    \n",
    "`Si le code est bon on affiche Bienvenue`"
   ]
  },
  {
   "cell_type": "code",
   "execution_count": null,
   "metadata": {},
   "outputs": [],
   "source": []
  },
  {
   "cell_type": "markdown",
   "metadata": {},
   "source": [
    "`demande du code\n",
    "on initialise le nombre d'essais à 1`\n",
    "\n",
    "`Tant que le code n'est pas bon\n",
    "     On affiche code mauvais\n",
    "     On affiche le nombre d'essais restant\n",
    "     On demande un autre code\n",
    "    On actualise le nombre d'essais`\n",
    "    \n",
    "`Si le code est bon \n",
    "alors on affiche Bienvenue\n",
    "sinon on affiche Bloqué`"
   ]
  },
  {
   "cell_type": "code",
   "execution_count": null,
   "metadata": {},
   "outputs": [],
   "source": []
  },
  {
   "cell_type": "markdown",
   "metadata": {},
   "source": [
    "# Séance 3"
   ]
  },
  {
   "cell_type": "markdown",
   "metadata": {},
   "source": [
    "L'objectif de la séance est de produire un programme permettant de déoder un texte chiffré par la méthode de César. On commencera par une initiation à python pour donner les outils nécessaires à la réalisation de ce programme.\n",
    "\n",
    "Comme prolongement, on pourra réaliser un programme utilisant  l'analyse fréquentielle pour trouver la clef."
   ]
  },
  {
   "cell_type": "markdown",
   "metadata": {},
   "source": [
    "## Initiation à Python (suite)"
   ]
  },
  {
   "cell_type": "markdown",
   "metadata": {},
   "source": [
    "### Longueur d'une chaîne de caractères"
   ]
  },
  {
   "cell_type": "markdown",
   "metadata": {},
   "source": [
    "La fonction **len()** renvoie la longueur d'une chaîne de caractères. Exécuter le programme ci-dessous."
   ]
  },
  {
   "cell_type": "code",
   "execution_count": null,
   "metadata": {},
   "outputs": [],
   "source": [
    "mot=input('Entre un mot ')\n",
    "print(len(mot)) "
   ]
  },
  {
   "cell_type": "markdown",
   "metadata": {},
   "source": [
    "### La chaîne de caractères : une liste de lettre"
   ]
  },
  {
   "cell_type": "markdown",
   "metadata": {},
   "source": [
    "Exécuter le programme ci-dessous."
   ]
  },
  {
   "cell_type": "code",
   "execution_count": null,
   "metadata": {},
   "outputs": [],
   "source": [
    "mot=input('Entre un mot :')\n",
    "n=input('Entre le rang entre 0 et '+str(len(mot)-1))\n",
    "n=int(n)\n",
    "print(mot[n])"
   ]
  },
  {
   "cell_type": "markdown",
   "metadata": {},
   "source": [
    "On saisit le mot `fleur`. Quel est le rang de la lettre `e`, de la letrre `r` ?"
   ]
  },
  {
   "cell_type": "markdown",
   "metadata": {},
   "source": [
    "Écrire ci-dessous un programme qui prend en entrée un mot et affiche sa dernière lettre."
   ]
  },
  {
   "cell_type": "code",
   "execution_count": null,
   "metadata": {},
   "outputs": [],
   "source": []
  },
  {
   "cell_type": "markdown",
   "metadata": {},
   "source": [
    "###  Le code ascii"
   ]
  },
  {
   "cell_type": "markdown",
   "metadata": {},
   "source": []
  },
  {
   "cell_type": "code",
   "execution_count": null,
   "metadata": {},
   "outputs": [],
   "source": [
    "for i in range(128):\n",
    "    print(i,chr(i))"
   ]
  },
  {
   "cell_type": "markdown",
   "metadata": {},
   "source": [
    "Dans la table **ascii**, où trouve-t-on les lettres majuscules ? les minuscules ?"
   ]
  },
  {
   "cell_type": "markdown",
   "metadata": {},
   "source": [
    "### Une chaîne de caractères : une suite de nombres"
   ]
  },
  {
   "cell_type": "markdown",
   "metadata": {},
   "source": [
    "La fonction `ord()` renvoie le code ascii d'un caractère. \n",
    "\n",
    "Le programme ci-dessous affiche les lettres d'un mot et leur code ascii. Observer comment est réalisée la boucle."
   ]
  },
  {
   "cell_type": "code",
   "execution_count": null,
   "metadata": {},
   "outputs": [],
   "source": [
    "mot=input('Entre un mot ')\n",
    "for l in mot:\n",
    "    print(l,ord(l))\n"
   ]
  },
  {
   "cell_type": "markdown",
   "metadata": {},
   "source": [
    "## Le code César"
   ]
  },
  {
   "cell_type": "code",
   "execution_count": null,
   "metadata": {},
   "outputs": [],
   "source": []
  }
 ],
 "metadata": {
  "kernelspec": {
   "display_name": "Python 3",
   "language": "python",
   "name": "python3"
  },
  "language_info": {
   "codemirror_mode": {
    "name": "ipython",
    "version": 3
   },
   "file_extension": ".py",
   "mimetype": "text/x-python",
   "name": "python",
   "nbconvert_exporter": "python",
   "pygments_lexer": "ipython3",
   "version": "3.6.5"
  }
 },
 "nbformat": 4,
 "nbformat_minor": 2
}
